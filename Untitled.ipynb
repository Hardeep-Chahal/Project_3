{
 "cells": [
  {
   "cell_type": "code",
   "execution_count": 15,
   "metadata": {},
   "outputs": [
    {
     "name": "stdout",
     "output_type": "stream",
     "text": [
      "{'latitude': 33.972386, 'longitude': -84.231986, 'timezone': 'America/New_York', 'currently': {'time': 1555459200, 'summary': 'Clear', 'icon': 'clear-day', 'precipIntensity': 0, 'precipProbability': 0, 'temperature': 71.62, 'apparentTemperature': 71.62, 'dewPoint': 42.75, 'humidity': 0.35, 'pressure': 1020.82, 'windSpeed': 2.75, 'windGust': 6.3, 'windBearing': 168, 'cloudCover': 0.01, 'uvIndex': 0, 'visibility': 3.78, 'ozone': 281.54}, 'hourly': {'summary': 'Clear throughout the day.', 'icon': 'clear-day', 'data': [{'time': 1555387200, 'summary': 'Clear', 'icon': 'clear-night', 'precipIntensity': 0, 'precipProbability': 0, 'temperature': 49.06, 'apparentTemperature': 49.06, 'dewPoint': 38.47, 'humidity': 0.67, 'pressure': 1021.28, 'windSpeed': 1.56, 'windGust': 4.6, 'windBearing': 329, 'cloudCover': 0, 'uvIndex': 0, 'visibility': 3.07, 'ozone': 297.17}, {'time': 1555390800, 'summary': 'Clear', 'icon': 'clear-night', 'precipIntensity': 0, 'precipProbability': 0, 'temperature': 47.1, 'apparentTemperature': 47.1, 'dewPoint': 38.92, 'humidity': 0.73, 'pressure': 1021.63, 'windSpeed': 1.07, 'windGust': 4.61, 'windBearing': 321, 'cloudCover': 0, 'uvIndex': 0, 'visibility': 2.24, 'ozone': 296.78}, {'time': 1555394400, 'summary': 'Clear', 'icon': 'clear-night', 'precipIntensity': 0, 'precipProbability': 0, 'temperature': 45.44, 'apparentTemperature': 45.44, 'dewPoint': 39.04, 'humidity': 0.78, 'pressure': 1021.82, 'windSpeed': 0.55, 'windGust': 3.43, 'windBearing': 325, 'cloudCover': 0, 'uvIndex': 0, 'visibility': 3.23, 'ozone': 297.47}, {'time': 1555398000, 'summary': 'Clear', 'icon': 'clear-night', 'precipIntensity': 0, 'precipProbability': 0, 'temperature': 44.23, 'apparentTemperature': 44.23, 'dewPoint': 39.49, 'humidity': 0.83, 'pressure': 1021.84, 'windSpeed': 0.38, 'windGust': 3.16, 'windBearing': 268, 'cloudCover': 0, 'uvIndex': 0, 'visibility': 2.14, 'ozone': 296.93}, {'time': 1555401600, 'summary': 'Clear', 'icon': 'clear-night', 'precipIntensity': 0, 'precipProbability': 0, 'temperature': 43.08, 'apparentTemperature': 43.08, 'dewPoint': 39.59, 'humidity': 0.87, 'pressure': 1021.68, 'windSpeed': 0.8, 'windGust': 3.25, 'windBearing': 305, 'cloudCover': 0, 'uvIndex': 0, 'visibility': 2.96, 'ozone': 296.14}, {'time': 1555405200, 'summary': 'Clear', 'icon': 'clear-night', 'precipIntensity': 0, 'precipProbability': 0, 'temperature': 43.09, 'apparentTemperature': 43.09, 'dewPoint': 39.73, 'humidity': 0.88, 'pressure': 1022.3, 'windSpeed': 0.72, 'windGust': 4.25, 'windBearing': 0, 'cloudCover': 0, 'uvIndex': 0, 'visibility': 3.23, 'ozone': 295.25}, {'time': 1555408800, 'summary': 'Clear', 'icon': 'clear-night', 'precipIntensity': 0, 'precipProbability': 0, 'temperature': 42.75, 'apparentTemperature': 42.75, 'dewPoint': 39.44, 'humidity': 0.88, 'pressure': 1022.52, 'windSpeed': 1.2, 'windGust': 7.16, 'windBearing': 8, 'cloudCover': 0, 'uvIndex': 0, 'visibility': 3.08, 'ozone': 294.37}, {'time': 1555412400, 'summary': 'Clear', 'icon': 'clear-night', 'precipIntensity': 0, 'precipProbability': 0, 'temperature': 42.2, 'apparentTemperature': 42.2, 'dewPoint': 39.29, 'humidity': 0.89, 'pressure': 1022.85, 'windSpeed': 0.71, 'windGust': 6.68, 'windBearing': 96, 'cloudCover': 0, 'uvIndex': 0, 'visibility': 2.78, 'ozone': 293.47}, {'time': 1555416000, 'summary': 'Clear', 'icon': 'clear-day', 'precipIntensity': 0, 'precipProbability': 0, 'temperature': 44.49, 'apparentTemperature': 44.49, 'dewPoint': 40.29, 'humidity': 0.85, 'pressure': 1023.69, 'windSpeed': 1.04, 'windGust': 6.61, 'windBearing': 72, 'cloudCover': 0, 'uvIndex': 0, 'visibility': 3.22, 'ozone': 292.57}, {'time': 1555419600, 'summary': 'Clear', 'icon': 'clear-day', 'precipIntensity': 0, 'precipProbability': 0, 'temperature': 52.45, 'apparentTemperature': 52.45, 'dewPoint': 38.68, 'humidity': 0.59, 'pressure': 1024.46, 'windSpeed': 3.15, 'windGust': 7.77, 'windBearing': 82, 'cloudCover': 0, 'uvIndex': 1, 'visibility': 3.19, 'ozone': 294.02}, {'time': 1555423200, 'summary': 'Clear', 'icon': 'clear-day', 'precipIntensity': 0, 'precipProbability': 0, 'temperature': 57.29, 'apparentTemperature': 57.29, 'dewPoint': 36.02, 'humidity': 0.45, 'pressure': 1024.55, 'windSpeed': 4.71, 'windGust': 8.17, 'windBearing': 99, 'cloudCover': 0, 'uvIndex': 3, 'visibility': 3.12, 'ozone': 293.34}, {'time': 1555426800, 'summary': 'Clear', 'icon': 'clear-day', 'precipIntensity': 0, 'precipProbability': 0, 'temperature': 61.12, 'apparentTemperature': 61.12, 'dewPoint': 36.61, 'humidity': 0.4, 'pressure': 1024.82, 'windSpeed': 3.78, 'windGust': 8.85, 'windBearing': 125, 'cloudCover': 0, 'uvIndex': 6, 'visibility': 3.19, 'ozone': 292.44}, {'time': 1555430400, 'summary': 'Clear', 'icon': 'clear-day', 'precipIntensity': 0, 'precipProbability': 0, 'temperature': 64.46, 'apparentTemperature': 64.46, 'dewPoint': 36.92, 'humidity': 0.36, 'pressure': 1025.04, 'windSpeed': 3.11, 'windGust': 8.3, 'windBearing': 134, 'cloudCover': 0, 'uvIndex': 8, 'visibility': 2.92, 'ozone': 291.52}, {'time': 1555434000, 'summary': 'Clear', 'icon': 'clear-day', 'precipIntensity': 0, 'precipProbability': 0, 'temperature': 67.14, 'apparentTemperature': 67.14, 'dewPoint': 37.5, 'humidity': 0.34, 'pressure': 1024.38, 'windSpeed': 2.59, 'windGust': 8.71, 'windBearing': 157, 'cloudCover': 0, 'uvIndex': 10, 'visibility': 2.98, 'ozone': 290.4}, {'time': 1555437600, 'summary': 'Clear', 'icon': 'clear-day', 'precipIntensity': 0, 'precipProbability': 0, 'temperature': 69.85, 'apparentTemperature': 69.85, 'dewPoint': 37.75, 'humidity': 0.31, 'pressure': 1023.65, 'windSpeed': 3.58, 'windGust': 9.25, 'windBearing': 150, 'cloudCover': 0, 'uvIndex': 10, 'visibility': 3.15, 'ozone': 289.25}, {'time': 1555441200, 'summary': 'Clear', 'icon': 'clear-day', 'precipIntensity': 0, 'precipProbability': 0, 'temperature': 72.4, 'apparentTemperature': 72.4, 'dewPoint': 38.01, 'humidity': 0.29, 'pressure': 1023.21, 'windSpeed': 4.59, 'windGust': 7.97, 'windBearing': 169, 'cloudCover': 0, 'uvIndex': 9, 'visibility': 3.62, 'ozone': 291.51}, {'time': 1555444800, 'summary': 'Clear', 'icon': 'clear-day', 'precipIntensity': 0, 'precipProbability': 0, 'temperature': 74.53, 'apparentTemperature': 74.53, 'dewPoint': 39.3, 'humidity': 0.28, 'pressure': 1022.37, 'windSpeed': 2.8, 'windGust': 8.24, 'windBearing': 185, 'cloudCover': 0, 'uvIndex': 7, 'visibility': 3.59, 'ozone': 290.41}, {'time': 1555448400, 'summary': 'Clear', 'icon': 'clear-day', 'precipIntensity': 0, 'precipProbability': 0, 'temperature': 75.78, 'apparentTemperature': 75.78, 'dewPoint': 40.32, 'humidity': 0.28, 'pressure': 1021.64, 'windSpeed': 5.13, 'windGust': 6.88, 'windBearing': 181, 'cloudCover': 0, 'uvIndex': 4, 'visibility': 10, 'ozone': 288.93}, {'time': 1555452000, 'summary': 'Clear', 'icon': 'clear-day', 'precipIntensity': 0, 'precipProbability': 0, 'temperature': 74.78, 'apparentTemperature': 74.78, 'dewPoint': 41.48, 'humidity': 0.3, 'pressure': 1020.6, 'windSpeed': 4.97, 'windGust': 7.42, 'windBearing': 182, 'cloudCover': 0, 'uvIndex': 2, 'visibility': 10, 'ozone': 286.71}, {'time': 1555455600, 'summary': 'Clear', 'icon': 'clear-day', 'precipIntensity': 0, 'precipProbability': 0, 'temperature': 75.25, 'apparentTemperature': 75.25, 'dewPoint': 40.95, 'humidity': 0.29, 'pressure': 1020.69, 'windSpeed': 4.54, 'windGust': 8.15, 'windBearing': 176, 'cloudCover': 0, 'uvIndex': 0, 'visibility': 2.88, 'ozone': 283.92}, {'time': 1555459200, 'summary': 'Clear', 'icon': 'clear-day', 'precipIntensity': 0, 'precipProbability': 0, 'temperature': 71.62, 'apparentTemperature': 71.62, 'dewPoint': 42.75, 'humidity': 0.35, 'pressure': 1020.82, 'windSpeed': 2.75, 'windGust': 6.3, 'windBearing': 168, 'cloudCover': 0.01, 'uvIndex': 0, 'visibility': 3.78, 'ozone': 281.54}, {'time': 1555462800, 'summary': 'Clear', 'icon': 'clear-night', 'precipIntensity': 0, 'precipProbability': 0, 'temperature': 66.03, 'apparentTemperature': 66.03, 'dewPoint': 44.73, 'humidity': 0.46, 'pressure': 1020.93, 'windSpeed': 2, 'windGust': 5.55, 'windBearing': 147, 'cloudCover': 0, 'uvIndex': 0, 'visibility': 3.01, 'ozone': 279.42}, {'time': 1555466400, 'summary': 'Clear', 'icon': 'clear-night', 'precipIntensity': 0, 'precipProbability': 0, 'temperature': 61.11, 'apparentTemperature': 61.11, 'dewPoint': 46.82, 'humidity': 0.59, 'pressure': 1021.43, 'windSpeed': 1.73, 'windGust': 6.02, 'windBearing': 127, 'cloudCover': 0.02, 'uvIndex': 0, 'visibility': 2.8, 'ozone': 277.91}, {'time': 1555470000, 'summary': 'Clear', 'icon': 'clear-night', 'precipIntensity': 0, 'precipProbability': 0, 'temperature': 58.32, 'apparentTemperature': 58.32, 'dewPoint': 48.26, 'humidity': 0.69, 'pressure': 1021.48, 'windSpeed': 1.27, 'windGust': 4.32, 'windBearing': 121, 'cloudCover': 0.01, 'uvIndex': 0, 'visibility': 3.48, 'ozone': 276.57}]}, 'daily': {'data': [{'time': 1555387200, 'summary': 'Clear throughout the day.', 'icon': 'clear-day', 'sunriseTime': 1555412752, 'sunsetTime': 1555459781, 'moonPhase': 0.4, 'precipIntensity': 0, 'precipIntensityMax': 0, 'precipProbability': 0, 'temperatureHigh': 75.78, 'temperatureHighTime': 1555448400, 'temperatureLow': 48.16, 'temperatureLowTime': 1555498800, 'apparentTemperatureHigh': 75.78, 'apparentTemperatureHighTime': 1555448400, 'apparentTemperatureLow': 48.16, 'apparentTemperatureLowTime': 1555498800, 'dewPoint': 40.01, 'humidity': 0.56, 'pressure': 1022.49, 'windSpeed': 1.6, 'windGust': 9.25, 'windGustTime': 1555437600, 'windBearing': 149, 'cloudCover': 0, 'uvIndex': 10, 'uvIndexTime': 1555434000, 'visibility': 3.65, 'ozone': 290.33, 'temperatureMin': 42.2, 'temperatureMinTime': 1555412400, 'temperatureMax': 75.78, 'temperatureMaxTime': 1555448400, 'apparentTemperatureMin': 42.2, 'apparentTemperatureMinTime': 1555412400, 'apparentTemperatureMax': 75.78, 'apparentTemperatureMaxTime': 1555448400}]}, 'flags': {'sources': ['cmc', 'gfs', 'hrrr', 'icon', 'isd', 'madis', 'nam', 'sref'], 'nearest-station': 1.959, 'units': 'us'}, 'offset': -4}\n"
     ]
    }
   ],
   "source": [
    "# import dependencies\n",
    "import pandas as pd\n",
    "import numpy as np\n",
    "import requests\n",
    "import json\n",
    "from pandas.io.json import json_normalize\n",
    "\n",
    "from datetime import date\n",
    "\n",
    "today = str(date.today())\n",
    "\n",
    "listx = [\"33.972386,-84.231986\"]\n",
    "# listname = [\"Norcross\", \"Seattle\", \"Boston\", \"Los Angeles\"]\n",
    "\n",
    "# date\tunix\t\n",
    "# 4/10/2019\t1554854400\tx\n",
    "# 4/11/2019\t1554940800\tx\n",
    "# 4/12/2019\t1555027200\tx\n",
    "# 4/13/2019\t1555113600\tx\n",
    "# 4/14/2019\t1555200000\tx\n",
    "# 4/15/2019\t1555286400\tx\n",
    "# 4/16/2019\t1555372800\tx\n",
    "# 4/17/2019\t1555459200\tx\n",
    "# 4/18/2019\t1555545600\t\n",
    "\n",
    "dflist = pd.DataFrame()\n",
    "\n",
    "for i in listx:\n",
    "    url = f\"https://api.darksky.net/forecast/fb0e09b8e9092cef1008bfe2eef00118/{i},1555459200?\"\n",
    "    #print(url)\n",
    "    response = requests.get(url)\n",
    "    data = response.json()\n",
    "    print(data)"
   ]
  },
  {
   "cell_type": "code",
   "execution_count": 14,
   "metadata": {},
   "outputs": [
    {
     "data": {
      "text/plain": [
       "<Response [200]>"
      ]
     },
     "execution_count": 14,
     "metadata": {},
     "output_type": "execute_result"
    }
   ],
   "source": [
    "response"
   ]
  }
 ],
 "metadata": {
  "kernelspec": {
   "display_name": "Python 3",
   "language": "python",
   "name": "python3"
  },
  "language_info": {
   "codemirror_mode": {
    "name": "ipython",
    "version": 3
   },
   "file_extension": ".py",
   "mimetype": "text/x-python",
   "name": "python",
   "nbconvert_exporter": "python",
   "pygments_lexer": "ipython3",
   "version": "3.7.1"
  }
 },
 "nbformat": 4,
 "nbformat_minor": 2
}
