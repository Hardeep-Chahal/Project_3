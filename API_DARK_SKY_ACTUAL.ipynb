{
 "cells": [
  {
   "cell_type": "code",
   "execution_count": 7,
   "metadata": {},
   "outputs": [
    {
     "ename": "KeyError",
     "evalue": "'minutely'",
     "output_type": "error",
     "traceback": [
      "\u001b[1;31m---------------------------------------------------------------------------\u001b[0m",
      "\u001b[1;31mKeyError\u001b[0m                                  Traceback (most recent call last)",
      "\u001b[1;32m<ipython-input-7-089608198119>\u001b[0m in \u001b[0;36m<module>\u001b[1;34m\u001b[0m\n\u001b[0;32m     32\u001b[0m     \u001b[0mdata\u001b[0m \u001b[1;33m=\u001b[0m \u001b[0mresponse\u001b[0m\u001b[1;33m.\u001b[0m\u001b[0mjson\u001b[0m\u001b[1;33m(\u001b[0m\u001b[1;33m)\u001b[0m\u001b[1;33m\u001b[0m\u001b[1;33m\u001b[0m\u001b[0m\n\u001b[0;32m     33\u001b[0m     \u001b[1;31m#print(data)\u001b[0m\u001b[1;33m\u001b[0m\u001b[1;33m\u001b[0m\u001b[1;33m\u001b[0m\u001b[0m\n\u001b[1;32m---> 34\u001b[1;33m     \u001b[0mcitydf\u001b[0m \u001b[1;33m=\u001b[0m \u001b[0mjson_normalize\u001b[0m\u001b[1;33m(\u001b[0m\u001b[0mdata\u001b[0m\u001b[1;33m[\u001b[0m\u001b[1;34m'minutely'\u001b[0m\u001b[1;33m]\u001b[0m\u001b[1;33m[\u001b[0m\u001b[1;34m'data'\u001b[0m\u001b[1;33m]\u001b[0m\u001b[1;33m)\u001b[0m\u001b[1;33m\u001b[0m\u001b[1;33m\u001b[0m\u001b[0m\n\u001b[0m\u001b[0;32m     35\u001b[0m     \u001b[1;31m#print(citydf)\u001b[0m\u001b[1;33m\u001b[0m\u001b[1;33m\u001b[0m\u001b[1;33m\u001b[0m\u001b[0m\n\u001b[0;32m     36\u001b[0m     \u001b[0mdf\u001b[0m \u001b[1;33m=\u001b[0m \u001b[0mcitydf\u001b[0m\u001b[1;33m.\u001b[0m\u001b[0mloc\u001b[0m\u001b[1;33m[\u001b[0m\u001b[1;33m:\u001b[0m\u001b[1;33m,\u001b[0m\u001b[1;33m[\u001b[0m\u001b[1;34m\"time\"\u001b[0m\u001b[1;33m,\u001b[0m\u001b[1;34m\"temperature\"\u001b[0m\u001b[1;33m,\u001b[0m\u001b[1;34m\"pressure\"\u001b[0m\u001b[1;33m,\u001b[0m\u001b[1;34m\"humidity\"\u001b[0m\u001b[1;33m]\u001b[0m\u001b[1;33m]\u001b[0m\u001b[1;33m\u001b[0m\u001b[1;33m\u001b[0m\u001b[0m\n",
      "\u001b[1;31mKeyError\u001b[0m: 'minutely'"
     ]
    }
   ],
   "source": [
    "# import dependencies\n",
    "import pandas as pd\n",
    "import numpy as np\n",
    "import requests\n",
    "import json\n",
    "from pandas.io.json import json_normalize\n",
    "\n",
    "from datetime import date\n",
    "\n",
    "today = str(date.today())\n",
    "\n",
    "listx = [\"33.972386,-84.231986\"]\n",
    "# listname = [\"Norcross\", \"Seattle\", \"Boston\", \"Los Angeles\"]\n",
    "\n",
    "# date\tunix\t\n",
    "# 4/10/2019\t1554854400\tx\n",
    "# 4/11/2019\t1554940800\tx\n",
    "# 4/12/2019\t1555027200\tx\n",
    "# 4/13/2019\t1555113600\tx\n",
    "# 4/14/2019\t1555200000\tx\n",
    "# 4/15/2019\t1555286400\tx\n",
    "# 4/16/2019\t1555372800\tx\n",
    "# 4/17/2019\t1555459200\tx\n",
    "# 4/18/2019\t1555545600\t\n",
    "\n",
    "dflist = pd.DataFrame()\n",
    "\n",
    "for i in listx:\n",
    "    url = f\"https://api.darksky.net/forecast/fb0e09b8e9092cef1008bfe2eef00118/{i},1555459200?\"\n",
    "    #print(url)\n",
    "    response = requests.get(url)\n",
    "    data = response.json()\n",
    "    #print(data)\n",
    "    citydf = json_normalize(data['minutely']['data'])\n",
    "    #print(citydf)\n",
    "    df = citydf.loc[:,[\"time\",\"temperature\",\"pressure\",\"humidity\"]]\n",
    "    df['clean time'] = pd.to_datetime(df['time'], unit='s')\n",
    "    df = df[[\"clean time\", \"temperature\", \"pressure\",\"humidity\"]]\n",
    "    df['city'] = i\n",
    "    df['run_date'] = today\n",
    "    dflist = dflist.append(df)\n",
    "\n",
    "#print(dflist)\n",
    "dflist.head()"
   ]
  },
  {
   "cell_type": "code",
   "execution_count": 5,
   "metadata": {},
   "outputs": [],
   "source": [
    "\n",
    "with open('actuals.csv', 'a') as f:\n",
    "    dflist.to_csv(f, header=False)"
   ]
  },
  {
   "cell_type": "code",
   "execution_count": null,
   "metadata": {},
   "outputs": [],
   "source": []
  }
 ],
 "metadata": {
  "kernelspec": {
   "display_name": "Python 3",
   "language": "python",
   "name": "python3"
  },
  "language_info": {
   "codemirror_mode": {
    "name": "ipython",
    "version": 3
   },
   "file_extension": ".py",
   "mimetype": "text/x-python",
   "name": "python",
   "nbconvert_exporter": "python",
   "pygments_lexer": "ipython3",
   "version": "3.7.1"
  }
 },
 "nbformat": 4,
 "nbformat_minor": 2
}
