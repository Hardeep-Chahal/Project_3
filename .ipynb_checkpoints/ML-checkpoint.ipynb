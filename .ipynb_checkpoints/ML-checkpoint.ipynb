{
 "cells": [
  {
   "cell_type": "code",
   "execution_count": 1,
   "metadata": {},
   "outputs": [],
   "source": [
    "# Importing dependencies for comunicating with sqlite db\n",
    "import sqlalchemy\n",
    "from sqlalchemy.ext.automap import automap_base\n",
    "from sqlalchemy import create_engine,inspect, func, desc\n",
    "from sqlalchemy.ext.declarative import declarative_base\n",
    "from sqlalchemy.orm import Session\n",
    "import pyodbc\n",
    "import sqlalchemy as sa\n",
    "import urllib\n",
    "import pandas as pd\n",
    "import os"
   ]
  },
  {
   "cell_type": "code",
   "execution_count": 4,
   "metadata": {},
   "outputs": [],
   "source": [
    "# Create engine to connect to Sensors.db\n",
    "engine = create_engine('sqlite:///Sensors.db', echo=False)\n",
    "Base = automap_base()"
   ]
  },
  {
   "cell_type": "code",
   "execution_count": 5,
   "metadata": {},
   "outputs": [
    {
     "data": {
      "text/plain": [
       "['BME_DATA']"
      ]
     },
     "execution_count": 5,
     "metadata": {},
     "output_type": "execute_result"
    }
   ],
   "source": [
    "# Using Base.prepare and Base.classes we will reflect DB into ORM classes\n",
    "Base.prepare(engine, reflect=True)\n",
    "Base.classes.keys()"
   ]
  },
  {
   "cell_type": "code",
   "execution_count": 6,
   "metadata": {},
   "outputs": [
    {
     "data": {
      "text/plain": [
       "['BME_DATA']"
      ]
     },
     "execution_count": 6,
     "metadata": {},
     "output_type": "execute_result"
    }
   ],
   "source": [
    "# Explore database with inspector\n",
    "inspector = inspect(engine)\n",
    "inspector.get_table_names()"
   ]
  },
  {
   "cell_type": "code",
   "execution_count": 7,
   "metadata": {},
   "outputs": [],
   "source": [
    "# Save the refference from table BME_DATA\n",
    "Rambo = Base.classes.BME_DATA"
   ]
  },
  {
   "cell_type": "code",
   "execution_count": 8,
   "metadata": {},
   "outputs": [],
   "source": [
    "# Create db sesion object\n",
    "session = Session(engine)"
   ]
  },
  {
   "cell_type": "code",
   "execution_count": 10,
   "metadata": {},
   "outputs": [],
   "source": [
    "df = pd.read_sql_query(\"SELECT * FROM BME_DATA ORDER BY TIME_STAMP\", engine)"
   ]
  },
  {
   "cell_type": "code",
   "execution_count": 11,
   "metadata": {},
   "outputs": [
    {
     "data": {
      "text/html": [
       "<div>\n",
       "<style scoped>\n",
       "    .dataframe tbody tr th:only-of-type {\n",
       "        vertical-align: middle;\n",
       "    }\n",
       "\n",
       "    .dataframe tbody tr th {\n",
       "        vertical-align: top;\n",
       "    }\n",
       "\n",
       "    .dataframe thead th {\n",
       "        text-align: right;\n",
       "    }\n",
       "</style>\n",
       "<table border=\"1\" class=\"dataframe\">\n",
       "  <thead>\n",
       "    <tr style=\"text-align: right;\">\n",
       "      <th></th>\n",
       "      <th>id</th>\n",
       "      <th>TIME_STAMP</th>\n",
       "      <th>TEMPERATURE</th>\n",
       "      <th>GAS</th>\n",
       "      <th>HUMIDITY</th>\n",
       "      <th>PRESSURE</th>\n",
       "      <th>ALTITUDE</th>\n",
       "    </tr>\n",
       "  </thead>\n",
       "  <tbody>\n",
       "    <tr>\n",
       "      <th>0</th>\n",
       "      <td>1</td>\n",
       "      <td>2019-04-09 22:51:21.496114</td>\n",
       "      <td>75.0</td>\n",
       "      <td>100</td>\n",
       "      <td>50.0</td>\n",
       "      <td>1000.0</td>\n",
       "      <td>1000.0</td>\n",
       "    </tr>\n",
       "    <tr>\n",
       "      <th>1</th>\n",
       "      <td>2</td>\n",
       "      <td>2019-04-09 22:51:31.220794</td>\n",
       "      <td>20.2</td>\n",
       "      <td>723933</td>\n",
       "      <td>84.1</td>\n",
       "      <td>976.3</td>\n",
       "      <td>312.3</td>\n",
       "    </tr>\n",
       "    <tr>\n",
       "      <th>2</th>\n",
       "      <td>3</td>\n",
       "      <td>2019-04-09 23:51:31.458662</td>\n",
       "      <td>20.0</td>\n",
       "      <td>723933</td>\n",
       "      <td>86.2</td>\n",
       "      <td>976.3</td>\n",
       "      <td>312.4</td>\n",
       "    </tr>\n",
       "    <tr>\n",
       "      <th>3</th>\n",
       "      <td>4</td>\n",
       "      <td>2019-04-10 00:51:31.550436</td>\n",
       "      <td>19.7</td>\n",
       "      <td>723933</td>\n",
       "      <td>86.4</td>\n",
       "      <td>976.3</td>\n",
       "      <td>312.2</td>\n",
       "    </tr>\n",
       "    <tr>\n",
       "      <th>4</th>\n",
       "      <td>5</td>\n",
       "      <td>2019-04-10 01:51:31.782320</td>\n",
       "      <td>19.2</td>\n",
       "      <td>723933</td>\n",
       "      <td>87.1</td>\n",
       "      <td>976.4</td>\n",
       "      <td>311.5</td>\n",
       "    </tr>\n",
       "  </tbody>\n",
       "</table>\n",
       "</div>"
      ],
      "text/plain": [
       "   id                  TIME_STAMP  TEMPERATURE     GAS  HUMIDITY  PRESSURE  \\\n",
       "0   1  2019-04-09 22:51:21.496114         75.0     100      50.0    1000.0   \n",
       "1   2  2019-04-09 22:51:31.220794         20.2  723933      84.1     976.3   \n",
       "2   3  2019-04-09 23:51:31.458662         20.0  723933      86.2     976.3   \n",
       "3   4  2019-04-10 00:51:31.550436         19.7  723933      86.4     976.3   \n",
       "4   5  2019-04-10 01:51:31.782320         19.2  723933      87.1     976.4   \n",
       "\n",
       "   ALTITUDE  \n",
       "0    1000.0  \n",
       "1     312.3  \n",
       "2     312.4  \n",
       "3     312.2  \n",
       "4     311.5  "
      ]
     },
     "execution_count": 11,
     "metadata": {},
     "output_type": "execute_result"
    }
   ],
   "source": [
    "df.head()"
   ]
  },
  {
   "cell_type": "code",
   "execution_count": 14,
   "metadata": {},
   "outputs": [],
   "source": [
    "# Convert time into datetime\n",
    "df['TIME_STAMP'] = pd.to_datetime(df['TIME_STAMP'])"
   ]
  },
  {
   "cell_type": "code",
   "execution_count": 15,
   "metadata": {},
   "outputs": [],
   "source": [
    " #Using funciton to convert string into date time\n",
    "from datetime import datetime, timedelta\n",
    "\n",
    "def hour_rounder(t):\n",
    "    # Rounds to nearest hour by adding a timedelta hour if minute >= 30\n",
    "    return (t.replace(second=0, microsecond=0, minute=0, hour=t.hour)\n",
    "               +timedelta(hours=t.minute//30))"
   ]
  },
  {
   "cell_type": "code",
   "execution_count": 16,
   "metadata": {},
   "outputs": [],
   "source": [
    "# converting fro all values in entire column\n",
    "df['TIME_STAMP'] = df['TIME_STAMP'].apply(hour_rounder)"
   ]
  },
  {
   "cell_type": "code",
   "execution_count": 19,
   "metadata": {},
   "outputs": [],
   "source": [
    "# converting temperature from C to f\n",
    "df['TEMPERATURE'] = round((df['TEMPERATURE']* 9/5) + 32)"
   ]
  },
  {
   "cell_type": "code",
   "execution_count": 20,
   "metadata": {},
   "outputs": [
    {
     "data": {
      "text/html": [
       "<div>\n",
       "<style scoped>\n",
       "    .dataframe tbody tr th:only-of-type {\n",
       "        vertical-align: middle;\n",
       "    }\n",
       "\n",
       "    .dataframe tbody tr th {\n",
       "        vertical-align: top;\n",
       "    }\n",
       "\n",
       "    .dataframe thead th {\n",
       "        text-align: right;\n",
       "    }\n",
       "</style>\n",
       "<table border=\"1\" class=\"dataframe\">\n",
       "  <thead>\n",
       "    <tr style=\"text-align: right;\">\n",
       "      <th></th>\n",
       "      <th>id</th>\n",
       "      <th>TIME_STAMP</th>\n",
       "      <th>TEMPERATURE</th>\n",
       "      <th>GAS</th>\n",
       "      <th>HUMIDITY</th>\n",
       "      <th>PRESSURE</th>\n",
       "      <th>ALTITUDE</th>\n",
       "    </tr>\n",
       "  </thead>\n",
       "  <tbody>\n",
       "    <tr>\n",
       "      <th>2</th>\n",
       "      <td>3</td>\n",
       "      <td>2019-04-10 00:00:00</td>\n",
       "      <td>68.0</td>\n",
       "      <td>723933</td>\n",
       "      <td>86.2</td>\n",
       "      <td>976.3</td>\n",
       "      <td>312.4</td>\n",
       "    </tr>\n",
       "    <tr>\n",
       "      <th>3</th>\n",
       "      <td>4</td>\n",
       "      <td>2019-04-10 01:00:00</td>\n",
       "      <td>67.0</td>\n",
       "      <td>723933</td>\n",
       "      <td>86.4</td>\n",
       "      <td>976.3</td>\n",
       "      <td>312.2</td>\n",
       "    </tr>\n",
       "    <tr>\n",
       "      <th>4</th>\n",
       "      <td>5</td>\n",
       "      <td>2019-04-10 02:00:00</td>\n",
       "      <td>67.0</td>\n",
       "      <td>723933</td>\n",
       "      <td>87.1</td>\n",
       "      <td>976.4</td>\n",
       "      <td>311.5</td>\n",
       "    </tr>\n",
       "    <tr>\n",
       "      <th>5</th>\n",
       "      <td>6</td>\n",
       "      <td>2019-04-10 03:00:00</td>\n",
       "      <td>66.0</td>\n",
       "      <td>723933</td>\n",
       "      <td>86.8</td>\n",
       "      <td>976.5</td>\n",
       "      <td>310.9</td>\n",
       "    </tr>\n",
       "    <tr>\n",
       "      <th>6</th>\n",
       "      <td>7</td>\n",
       "      <td>2019-04-10 04:00:00</td>\n",
       "      <td>65.0</td>\n",
       "      <td>723933</td>\n",
       "      <td>86.8</td>\n",
       "      <td>976.5</td>\n",
       "      <td>310.8</td>\n",
       "    </tr>\n",
       "  </tbody>\n",
       "</table>\n",
       "</div>"
      ],
      "text/plain": [
       "   id          TIME_STAMP  TEMPERATURE     GAS  HUMIDITY  PRESSURE  ALTITUDE\n",
       "2   3 2019-04-10 00:00:00         68.0  723933      86.2     976.3     312.4\n",
       "3   4 2019-04-10 01:00:00         67.0  723933      86.4     976.3     312.2\n",
       "4   5 2019-04-10 02:00:00         67.0  723933      87.1     976.4     311.5\n",
       "5   6 2019-04-10 03:00:00         66.0  723933      86.8     976.5     310.9\n",
       "6   7 2019-04-10 04:00:00         65.0  723933      86.8     976.5     310.8"
      ]
     },
     "execution_count": 20,
     "metadata": {},
     "output_type": "execute_result"
    }
   ],
   "source": [
    "# Deleting the wrong input at the first row\n",
    "df = df.iloc[1:]\n",
    "df.head()"
   ]
  },
  {
   "cell_type": "code",
   "execution_count": null,
   "metadata": {},
   "outputs": [],
   "source": []
  },
  {
   "cell_type": "code",
   "execution_count": null,
   "metadata": {},
   "outputs": [],
   "source": []
  },
  {
   "cell_type": "code",
   "execution_count": null,
   "metadata": {},
   "outputs": [],
   "source": []
  },
  {
   "cell_type": "code",
   "execution_count": null,
   "metadata": {},
   "outputs": [],
   "source": []
  }
 ],
 "metadata": {
  "kernelspec": {
   "display_name": "Python 3",
   "language": "python",
   "name": "python3"
  },
  "language_info": {
   "codemirror_mode": {
    "name": "ipython",
    "version": 3
   },
   "file_extension": ".py",
   "mimetype": "text/x-python",
   "name": "python",
   "nbconvert_exporter": "python",
   "pygments_lexer": "ipython3",
   "version": "3.7.1"
  }
 },
 "nbformat": 4,
 "nbformat_minor": 2
}
