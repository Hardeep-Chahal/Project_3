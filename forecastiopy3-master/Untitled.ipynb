{
 "cells": [
  {
   "cell_type": "code",
   "execution_count": 3,
   "metadata": {},
   "outputs": [
    {
     "name": "stdout",
     "output_type": "stream",
     "text": [
      "Latitude 33.972386 Longitude -84.231986\n",
      "Timezone America/New_York Offset -4\n",
      "https://api.forecast.io/forecast/fb0e09b8e9092cef1008bfe2eef00118/33.972386,-84.231986?units=si&lang=en\n"
     ]
    }
   ],
   "source": [
    "from forecastiopy import *\n",
    "\n",
    "apikey = \"fb0e09b8e9092cef1008bfe2eef00118\"\n",
    "\n",
    "Norcross = [33.972386,-84.231986]\n",
    "\n",
    "fio = ForecastIO.ForecastIO(apikey,\n",
    "                            units=ForecastIO.ForecastIO.UNITS_SI,\n",
    "                            lang=ForecastIO.ForecastIO.LANG_ENGLISH,\n",
    "                            latitude=Norcross[0], longitude=Norcross[1])\n",
    "\n",
    "print('Latitude', fio.latitude, 'Longitude', fio.longitude)\n",
    "print('Timezone', fio.timezone, 'Offset', fio.offset)\n",
    "print(fio.get_url()) # You might want to see the request url"
   ]
  },
  {
   "cell_type": "code",
   "execution_count": 7,
   "metadata": {},
   "outputs": [
    {
     "name": "stdout",
     "output_type": "stream",
     "text": [
      "Minutely\n",
      "Summary: Possible light rain stopping in 6 min.\n",
      "Icon: rain\n",
      "Minute 1\n"
     ]
    },
    {
     "ename": "NameError",
     "evalue": "name 'unicode' is not defined",
     "output_type": "error",
     "traceback": [
      "\u001b[1;31m---------------------------------------------------------------------------\u001b[0m",
      "\u001b[1;31mNameError\u001b[0m                                 Traceback (most recent call last)",
      "\u001b[1;32m<ipython-input-7-bbef59641758>\u001b[0m in \u001b[0;36m<module>\u001b[1;34m\u001b[0m\n\u001b[0;32m      8\u001b[0m         \u001b[0mprint\u001b[0m\u001b[1;33m(\u001b[0m\u001b[1;34m'Minute'\u001b[0m\u001b[1;33m,\u001b[0m \u001b[0mminute\u001b[0m\u001b[1;33m+\u001b[0m\u001b[1;36m1\u001b[0m\u001b[1;33m)\u001b[0m\u001b[1;33m\u001b[0m\u001b[1;33m\u001b[0m\u001b[0m\n\u001b[0;32m      9\u001b[0m         \u001b[1;32mfor\u001b[0m \u001b[0mitem\u001b[0m \u001b[1;32min\u001b[0m \u001b[0mminutely\u001b[0m\u001b[1;33m.\u001b[0m\u001b[0mget_minute\u001b[0m\u001b[1;33m(\u001b[0m\u001b[0mminute\u001b[0m\u001b[1;33m)\u001b[0m\u001b[1;33m.\u001b[0m\u001b[0mkeys\u001b[0m\u001b[1;33m(\u001b[0m\u001b[1;33m)\u001b[0m\u001b[1;33m:\u001b[0m\u001b[1;33m\u001b[0m\u001b[1;33m\u001b[0m\u001b[0m\n\u001b[1;32m---> 10\u001b[1;33m             \u001b[0mprint\u001b[0m\u001b[1;33m(\u001b[0m\u001b[0mitem\u001b[0m \u001b[1;33m+\u001b[0m \u001b[1;34m' : '\u001b[0m \u001b[1;33m+\u001b[0m \u001b[0municode\u001b[0m\u001b[1;33m(\u001b[0m\u001b[0mminutely\u001b[0m\u001b[1;33m.\u001b[0m\u001b[0mget_minute\u001b[0m\u001b[1;33m(\u001b[0m\u001b[0mminute\u001b[0m\u001b[1;33m)\u001b[0m\u001b[1;33m[\u001b[0m\u001b[0mitem\u001b[0m\u001b[1;33m]\u001b[0m\u001b[1;33m)\u001b[0m\u001b[1;33m)\u001b[0m\u001b[1;33m\u001b[0m\u001b[1;33m\u001b[0m\u001b[0m\n\u001b[0m\u001b[0;32m     11\u001b[0m \u001b[1;33m\u001b[0m\u001b[0m\n\u001b[0;32m     12\u001b[0m         \u001b[1;31m# Or access attributes directly for a given minute.\u001b[0m\u001b[1;33m\u001b[0m\u001b[1;33m\u001b[0m\u001b[1;33m\u001b[0m\u001b[0m\n",
      "\u001b[1;31mNameError\u001b[0m: name 'unicode' is not defined"
     ]
    }
   ],
   "source": [
    "if fio.has_minutely() is True:\n",
    "    minutely = FIOMinutely.FIOMinutely(fio)\n",
    "    print('Minutely')\n",
    "    print('Summary:', minutely.summary)\n",
    "    print('Icon:', minutely.icon)\n",
    "\n",
    "    for minute in range(0, minutely.minutes()):\n",
    "        print('Minute', minute+1)\n",
    "        for item in minutely.get_minute(minute).keys():\n",
    "            print(item + ' : ' + unicode(minutely.get_minute(minute)[item]))\n",
    "\n",
    "        # Or access attributes directly for a given minute.\n",
    "        # minutely.minute_3_time would also work\n",
    "        print(minutely.minute_1_time)\n",
    "else:\n",
    "    print('No Minutely data')"
   ]
  }
 ],
 "metadata": {
  "kernelspec": {
   "display_name": "Python 3",
   "language": "python",
   "name": "python3"
  },
  "language_info": {
   "codemirror_mode": {
    "name": "ipython",
    "version": 3
   },
   "file_extension": ".py",
   "mimetype": "text/x-python",
   "name": "python",
   "nbconvert_exporter": "python",
   "pygments_lexer": "ipython3",
   "version": "3.7.1"
  }
 },
 "nbformat": 4,
 "nbformat_minor": 2
}
